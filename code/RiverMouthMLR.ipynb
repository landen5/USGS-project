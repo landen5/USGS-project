{
 "cells": [
  {
   "cell_type": "code",
   "execution_count": 105,
   "id": "2c68da1d",
   "metadata": {
    "scrolled": false
   },
   "outputs": [],
   "source": [
    "#reading in data\n",
    "import pandas as pd\n",
    "sheet_id = '1wQXj3hYjBnxiC91AX6ZRa5RcCxKTHzg8' \n",
    "sheet_name = 'NoNansPivot'\n",
    "url = f'https://docs.google.com/spreadsheets/d/{sheet_id}/gviz/tq?tqx=out:csv&sheet={sheet_name}'\n",
    "df = pd.read_csv(url)\n",
    "df = df[23:36]"
   ]
  },
  {
   "cell_type": "code",
   "execution_count": 107,
   "id": "08133d2f",
   "metadata": {},
   "outputs": [
    {
     "name": "stdout",
     "output_type": "stream",
     "text": [
      "Intercept: \n",
      " -11.602822328106333\n",
      "Coefficients: \n",
      " [6.05891486 1.42173661]\n",
      "                            OLS Regression Results                            \n",
      "==============================================================================\n",
      "Dep. Variable:                      2   R-squared:                       0.595\n",
      "Model:                            OLS   Adj. R-squared:                  0.513\n",
      "Method:                 Least Squares   F-statistic:                     7.332\n",
      "Date:                Wed, 24 May 2023   Prob (F-statistic):             0.0110\n",
      "Time:                        18:11:13   Log-Likelihood:                -42.928\n",
      "No. Observations:                  13   AIC:                             91.86\n",
      "Df Residuals:                      10   BIC:                             93.55\n",
      "Df Model:                           2                                         \n",
      "Covariance Type:            nonrobust                                         \n",
      "============================================================================================\n",
      "                               coef    std err          t      P>|t|      [0.025      0.975]\n",
      "--------------------------------------------------------------------------------------------\n",
      "const                      -11.6028     19.114     -0.607      0.557     -54.191      30.985\n",
      "log_river_sediment           6.0589      1.588      3.816      0.003       2.521       9.597\n",
      "point_sur_height_squared     1.4217      3.787      0.375      0.715      -7.016       9.860\n",
      "==============================================================================\n",
      "Omnibus:                        0.892   Durbin-Watson:                   1.415\n",
      "Prob(Omnibus):                  0.640   Jarque-Bera (JB):                0.796\n",
      "Skew:                          -0.463   Prob(JB):                        0.672\n",
      "Kurtosis:                       2.218   Cond. No.                         48.6\n",
      "==============================================================================\n",
      "\n",
      "Notes:\n",
      "[1] Standard Errors assume that the covariance matrix of the errors is correctly specified.\n"
     ]
    },
    {
     "name": "stderr",
     "output_type": "stream",
     "text": [
      "/Users/xander/opt/anaconda3/lib/python3.9/site-packages/scipy/stats/_stats_py.py:1769: UserWarning: kurtosistest only valid for n>=20 ... continuing anyway, n=13\n",
      "  warnings.warn(\"kurtosistest only valid for n>=20 ... continuing \"\n"
     ]
    }
   ],
   "source": [
    "from sklearn import linear_model\n",
    "import statsmodels.api as sm\n",
    "# df = df.drop(df.index[[35]])\n",
    "transect = 2\n",
    "# transectup = str(transec-1)\n",
    "# transectdown = str(transec+1)\n",
    "current_transect = str(transect)\n",
    "prev = str(transect)+'prev'\n",
    "x = df[[prev,'log_river_sediment_prev','wave_dir','wave_flux','log_river_sediment','point_sur_height_squared']]\n",
    "x = df[['log_river_sediment','point_sur_height_squared']]\n",
    "y = df[current_transect]\n",
    "# with sklearn\n",
    "regr = linear_model.LinearRegression()\n",
    "regr.fit(x, y)\n",
    "\n",
    "print('Intercept: \\n', regr.intercept_)\n",
    "print('Coefficients: \\n', regr.coef_)\n",
    "\n",
    "# with statsmodels\n",
    "x = sm.add_constant(x) # adding a constant\n",
    " \n",
    "model = sm.OLS(y, x).fit()\n",
    "predictions = model.predict(x) \n",
    " \n",
    "print_model = model.summary()\n",
    "print(print_model)"
   ]
  },
  {
   "cell_type": "code",
   "execution_count": 151,
   "id": "ca79620e",
   "metadata": {},
   "outputs": [
    {
     "name": "stdout",
     "output_type": "stream",
     "text": [
      "Intercept: \n",
      " -0.8597394985186891\n",
      "Coefficients: \n",
      " [0.47624743]\n",
      "                            OLS Regression Results                            \n",
      "==============================================================================\n",
      "Dep. Variable:                     18   R-squared:                       0.212\n",
      "Model:                            OLS   Adj. R-squared:                  0.189\n",
      "Method:                 Least Squares   F-statistic:                     9.172\n",
      "Date:                Thu, 18 May 2023   Prob (F-statistic):            0.00467\n",
      "Time:                        09:52:15   Log-Likelihood:                -122.49\n",
      "No. Observations:                  36   AIC:                             249.0\n",
      "Df Residuals:                      34   BIC:                             252.1\n",
      "Df Model:                           1                                         \n",
      "Covariance Type:            nonrobust                                         \n",
      "==============================================================================\n",
      "                 coef    std err          t      P>|t|      [0.025      0.975]\n",
      "------------------------------------------------------------------------------\n",
      "const         -0.8597      1.280     -0.672      0.506      -3.460       1.741\n",
      "18prev         0.4762      0.157      3.028      0.005       0.157       0.796\n",
      "==============================================================================\n",
      "Omnibus:                       12.453   Durbin-Watson:                   2.080\n",
      "Prob(Omnibus):                  0.002   Jarque-Bera (JB):               12.514\n",
      "Skew:                           1.168   Prob(JB):                      0.00192\n",
      "Kurtosis:                       4.699   Cond. No.                         8.36\n",
      "==============================================================================\n",
      "\n",
      "Notes:\n",
      "[1] Standard Errors assume that the covariance matrix of the errors is correctly specified.\n"
     ]
    }
   ],
   "source": [
    "from sklearn import linear_model\n",
    "import statsmodels.api as sm\n",
    "# df = df.drop(df.index[[35]])\n",
    "x = df[[prev]]\n",
    "y = df[current_transect]\n",
    "# with sklearn\n",
    "regr = linear_model.LinearRegression()\n",
    "regr.fit(x, y)\n",
    "\n",
    "print('Intercept: \\n', regr.intercept_)\n",
    "print('Coefficients: \\n', regr.coef_)\n",
    "\n",
    "# with statsmodels\n",
    "x = sm.add_constant(x) # adding a constant\n",
    " \n",
    "model = sm.OLS(y, x).fit()\n",
    "predictions = model.predict(x) \n",
    " \n",
    "print_model = model.summary()\n",
    "print(print_model)"
   ]
  },
  {
   "cell_type": "code",
   "execution_count": 152,
   "id": "5e55e5f2",
   "metadata": {},
   "outputs": [
    {
     "name": "stdout",
     "output_type": "stream",
     "text": [
      "Intercept: \n",
      " -3.6124325560890735\n",
      "Coefficients: \n",
      " [0.57719348 4.02197289]\n",
      "                            OLS Regression Results                            \n",
      "==============================================================================\n",
      "Dep. Variable:                     18   R-squared:                       0.465\n",
      "Model:                            OLS   Adj. R-squared:                  0.432\n",
      "Method:                 Least Squares   F-statistic:                     14.32\n",
      "Date:                Thu, 18 May 2023   Prob (F-statistic):           3.33e-05\n",
      "Time:                        09:52:24   Log-Likelihood:                -115.54\n",
      "No. Observations:                  36   AIC:                             237.1\n",
      "Df Residuals:                      33   BIC:                             241.8\n",
      "Df Model:                           2                                         \n",
      "Covariance Type:            nonrobust                                         \n",
      "===========================================================================================\n",
      "                              coef    std err          t      P>|t|      [0.025      0.975]\n",
      "-------------------------------------------------------------------------------------------\n",
      "const                      -3.6124      1.278     -2.826      0.008      -6.213      -1.012\n",
      "18prev                      0.5772      0.134      4.305      0.000       0.304       0.850\n",
      "log_river_sediment_prev     4.0220      1.020      3.943      0.000       1.947       6.097\n",
      "==============================================================================\n",
      "Omnibus:                        0.249   Durbin-Watson:                   2.108\n",
      "Prob(Omnibus):                  0.883   Jarque-Bera (JB):                0.046\n",
      "Skew:                           0.086   Prob(JB):                        0.977\n",
      "Kurtosis:                       2.971   Cond. No.                         11.3\n",
      "==============================================================================\n",
      "\n",
      "Notes:\n",
      "[1] Standard Errors assume that the covariance matrix of the errors is correctly specified.\n"
     ]
    }
   ],
   "source": [
    "from sklearn import linear_model\n",
    "import statsmodels.api as sm\n",
    "# df = df.drop(df.index[[35]])\n",
    "x = df[[prev,'log_river_sediment_prev']]\n",
    "y = df[current_transect]\n",
    "# with sklearn\n",
    "regr = linear_model.LinearRegression()\n",
    "regr.fit(x, y)\n",
    "\n",
    "print('Intercept: \\n', regr.intercept_)\n",
    "print('Coefficients: \\n', regr.coef_)\n",
    "\n",
    "# with statsmodels\n",
    "x = sm.add_constant(x) # adding a constant\n",
    " \n",
    "model = sm.OLS(y, x).fit()\n",
    "predictions = model.predict(x) \n",
    " \n",
    "print_model = model.summary()\n",
    "print(print_model)"
   ]
  }
 ],
 "metadata": {
  "kernelspec": {
   "display_name": "Python 3 (ipykernel)",
   "language": "python",
   "name": "python3"
  },
  "language_info": {
   "codemirror_mode": {
    "name": "ipython",
    "version": 3
   },
   "file_extension": ".py",
   "mimetype": "text/x-python",
   "name": "python",
   "nbconvert_exporter": "python",
   "pygments_lexer": "ipython3",
   "version": "3.9.13"
  }
 },
 "nbformat": 4,
 "nbformat_minor": 5
}
